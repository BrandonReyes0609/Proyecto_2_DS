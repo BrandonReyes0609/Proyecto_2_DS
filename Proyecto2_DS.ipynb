{
 "cells": [
  {
   "cell_type": "markdown",
   "id": "cb3c90c0",
   "metadata": {},
   "source": [
    "# Proyecto 2\n",
    "\n",
    "----\n",
    "Nancy Mazariegos\n",
    "\n",
    "Santiago Pereira\n",
    "\n",
    "Brandon Reyes\n",
    "\n",
    "Andre Jo\n",
    "\n",
    "----"
   ]
  },
  {
   "cell_type": "markdown",
   "id": "b02ee089",
   "metadata": {},
   "source": [
    "## Análisis Exploratorio"
   ]
  },
  {
   "cell_type": "markdown",
   "id": "36b89e23",
   "metadata": {},
   "source": [
    "### 1. Planteamiento inicial del problema:"
   ]
  },
  {
   "cell_type": "markdown",
   "id": "62927567",
   "metadata": {},
   "source": [
    "#### a. Situación Problemática\n",
    "\n",
    "Los mercados de commodities (petróleo, gas, metales, granos, etc.) son altamente volátiles y están influenciados por factores económicos, políticos y climáticos. Esta volatilidad dificulta la predicción de precios futuros, lo que representa un reto para empresas de comercio, bancos de inversión y gobiernos que dependen de una planificación estratégica."
   ]
  },
  {
   "cell_type": "markdown",
   "id": "14727f61",
   "metadata": {},
   "source": [
    "#### b. Problema Científico\n",
    "\n",
    "¿Es posible desarrollar un modelo de series de tiempo que prediga con precisión la evolución de precios de commodities utilizando datos históricos y técnicas de aprendizaje automático?"
   ]
  },
  {
   "cell_type": "markdown",
   "id": "48c0ce91",
   "metadata": {},
   "source": [
    "#### c. Objetivos\n",
    "\n",
    "Objetivo General:\n",
    "\n",
    "Construir un modelo predictivo basado en series de tiempo que permita estimar el precio futuro de commodities con alta precisión.\n",
    "\n",
    "Objetivos Específicos:\n",
    "\n",
    "- Realizar un análisis exploratorio de datos (EDA) para identificar patrones de tendencia, estacionalidad y volatilidad.\n",
    "\n",
    "- Implementar técnicas de preprocesamiento (limpieza, imputación de valores faltantes, normalización, creación de features de calendario/ventanas temporales).\n",
    "\n",
    "- Comparar diferentes enfoques de modelado (ARIMA, Prophet, LSTM, Transformers para time series) y evaluar métricas de desempeño."
   ]
  },
  {
   "cell_type": "markdown",
   "id": "1b9f35f9",
   "metadata": {},
   "source": [
    "## 2. Investigación preliminar"
   ]
  },
  {
   "cell_type": "markdown",
   "id": "bf8d2ddd",
   "metadata": {},
   "source": [
    "El mercado de commodities (petróleo, gas, metales, granos, entre otros) se distingue por ser muy cambiante y sensible a distintos factores externos, como la oferta y la demanda mundial, los tipos de cambio, las políticas económicas, el clima y hasta situaciones geopolíticas. Esta volatilidad complica mucho hacer predicciones confiables, por lo que en los últimos años se han desarrollado modelos que ayudan a anticipar tendencias de precios y sirven como apoyo en la toma de decisiones para empresas, inversionistas y gobiernos.\n",
    "\n",
    "Al revisar la literatura, se encuentran varios enfoques comunes en problemas de predicción de precios:\n",
    "\n",
    " - Modelos estadísticos de series de tiempo: como ARIMA, SARIMA y Holt-Winters, que buscan capturar tendencias y estacionalidad.\n",
    "\n",
    " - Modelos de machine learning: por ejemplo regresiones múltiples, Random Forest, Gradient Boosting y SVM, que permiten manejar muchas variables al mismo tiempo.\n",
    "\n",
    " - Modelos de deep learning: redes neuronales como LSTM, GRU o incluso Transformers, que aprenden relaciones más complejas y de largo plazo en las series.\n",
    "\n",
    " - Preprocesamiento de datos: uso de retornos logarítmicos, diferenciación para hacer las series más estables, normalización, imputación de valores perdidos y creación de lags o medias móviles.\n",
    "\n",
    " - Reducción de dimensionalidad: técnicas como PCA o selección de variables importantes, que resultan útiles cuando se trabaja con miles de columnas.\n",
    "\n",
    "El desafío Mitsui Commodity Prediction Challenge combina todos estos elementos, ya que integra información de varios mercados financieros (LME, JPX, Forex y acciones de EE. UU.) y pide predecir retornos en horizontes cortos de 1 a 4 días. Esto hace necesario aplicar métodos modernos de análisis de datos y aprendizaje automático para lograr buenos resultados."
   ]
  },
  {
   "cell_type": "markdown",
   "id": "00942ebd",
   "metadata": {},
   "source": []
  },
  {
   "cell_type": "markdown",
   "id": "fa019ce5",
   "metadata": {},
   "source": [
    "### 3) Análisis inicial del rpoblema y los datos disponibles \n",
    "\n",
    "El reto se centra en predecir cómo se comportarán los precios y retornos de distintos commodities en los próximos días (entre 1 y 4 días adelante) usando datos históricos de diferentes mercados financieros. Para esto, se ponen a disposición varios archivos:\n",
    "\n",
    " - train.csv: contiene el set de entrenamiento, con cerca de 1,977 columnas (features) que representan información de metales, divisas, acciones y futuros.\n",
    "\n",
    " - train_labels.csv: incluye aproximadamente 424 objetivos (targets), que son retornos individuales de commodities y también diferencias entre pares.\n",
    "\n",
    " - target_pairs.csv: describe las combinaciones de commodities y sus etiquetas, ayudando a entender mejor qué representa cada variable objetivo.\n",
    "\n",
    " - test.csv: es similar a train.csv en estructura, pero sin etiquetas, y se utiliza para generar las predicciones finales.\n",
    "\n",
    "\n",
    "## Observaciones iniciales\n",
    "\n",
    "1. Cantidad de variables: el hecho de tener casi 2,000 features y más de 400 targets hace que sea un problema multivariable de gran escala. Esto obliga a usar técnicas de selección o reducción de datos.\n",
    "\n",
    "2. Orden temporal: como es un problema de series de tiempo, se debe respetar la secuencia cronológica para no introducir datos del futuro en el entrenamiento (data leakage).\n",
    "\n",
    "3. Datos faltantes: es probable que haya valores nulos en fechas de feriados o cierres de mercados. Habrá que decidir si se imputan (con interpolación o rellenado) o si se eliminan.\n",
    "\n",
    "4. Volatilidad y valores atípicos: los precios pueden presentar picos o caídas fuertes ligados a crisis económicas, cambios políticos o eventos naturales. Es importante detectarlos y decidir cómo tratarlos.\n",
    "\n",
    "5. Predicciones a corto plazo: el hecho de que las etiquetas estén definidas en lags de 1 a 4 días muestra que el enfoque es de corto plazo, donde los patrones más recientes podrían tener más peso que las tendencias históricas largas. "
   ]
  },
  {
   "cell_type": "markdown",
   "id": "98846f3a",
   "metadata": {},
   "source": [
    "### Preguntas iniciales para guiar el análisis\n",
    "\n",
    " - ¿Qué tan marcados son los patrones de estacionalidad en los distintos commodities?\n",
    " - ¿Cuáles presentan correlaciones más fuertes entre sí?\n",
    " - ¿Cuál es la magnitud de los valores faltantes y cómo se distribuyen?\n",
    " - ¿Qué commodities son más volátiles y cuáles más estables, por lo que podrían ser más fáciles de predecir?"
   ]
  }
 ],
 "metadata": {
  "language_info": {
   "name": "python"
  }
 },
 "nbformat": 4,
 "nbformat_minor": 5
}
