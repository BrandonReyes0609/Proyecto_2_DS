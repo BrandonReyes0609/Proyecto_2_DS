{
 "cells": [
  {
   "cell_type": "markdown",
   "id": "cb3c90c0",
   "metadata": {},
   "source": [
    "# Proyecto 2\n",
    "\n",
    "----\n",
    "Nancy Mazariegos\n",
    "\n",
    "Santiago Pereira\n",
    "\n",
    "Brandon Reyes\n",
    "\n",
    "Andre Jo\n",
    "\n",
    "----"
   ]
  },
  {
   "cell_type": "markdown",
   "id": "b02ee089",
   "metadata": {},
   "source": [
    "## Análisis Exploratorio"
   ]
  },
  {
   "cell_type": "markdown",
   "id": "36b89e23",
   "metadata": {},
   "source": [
    "### 1. Planteamiento inicial del problema:"
   ]
  },
  {
   "cell_type": "markdown",
   "id": "62927567",
   "metadata": {},
   "source": [
    "#### a. Situación Problemática\n",
    "\n",
    "Los mercados de commodities (petróleo, gas, metales, granos, etc.) son altamente volátiles y están influenciados por factores económicos, políticos y climáticos. Esta volatilidad dificulta la predicción de precios futuros, lo que representa un reto para empresas de comercio, bancos de inversión y gobiernos que dependen de una planificación estratégica."
   ]
  },
  {
   "cell_type": "markdown",
   "id": "14727f61",
   "metadata": {},
   "source": [
    "#### b. Problema Científico\n",
    "\n",
    "¿Es posible desarrollar un modelo de series de tiempo que prediga con precisión la evolución de precios de commodities utilizando datos históricos y técnicas de aprendizaje automático?"
   ]
  },
  {
   "cell_type": "markdown",
   "id": "48c0ce91",
   "metadata": {},
   "source": [
    "#### c. Objetivos\n",
    "\n",
    "Objetivo General:\n",
    "\n",
    "Construir un modelo predictivo basado en series de tiempo que permita estimar el precio futuro de commodities con alta precisión.\n",
    "\n",
    "Objetivos Específicos:\n",
    "\n",
    "- Realizar un análisis exploratorio de datos (EDA) para identificar patrones de tendencia, estacionalidad y volatilidad.\n",
    "\n",
    "- Implementar técnicas de preprocesamiento (limpieza, imputación de valores faltantes, normalización, creación de features de calendario/ventanas temporales).\n",
    "\n",
    "- Comparar diferentes enfoques de modelado (ARIMA, Prophet, LSTM, Transformers para time series) y evaluar métricas de desempeño."
   ]
  }
 ],
 "metadata": {
  "language_info": {
   "name": "python"
  }
 },
 "nbformat": 4,
 "nbformat_minor": 5
}
