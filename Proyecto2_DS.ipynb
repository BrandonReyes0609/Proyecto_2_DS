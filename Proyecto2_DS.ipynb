{
 "cells": [
  {
   "cell_type": "markdown",
   "id": "cb3c90c0",
   "metadata": {},
   "source": [
    "# Proyecto 2\n",
    "\n",
    "----\n",
    "Nancy Mazariegos\n",
    "\n",
    "Santiago Pereira\n",
    "\n",
    "Brandon Reyes\n",
    "\n",
    "Andre Jo\n",
    "\n",
    "----"
   ]
  },
  {
   "cell_type": "markdown",
   "id": "b02ee089",
   "metadata": {},
   "source": [
    "### Análisis Exploratorio"
   ]
  }
 ],
 "metadata": {
  "language_info": {
   "name": "python"
  }
 },
 "nbformat": 4,
 "nbformat_minor": 5
}
